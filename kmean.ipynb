{
 "cells": [
  {
   "cell_type": "code",
   "execution_count": 1,
   "metadata": {},
   "outputs": [],
   "source": [
    "import numpy as np"
   ]
  },
  {
   "cell_type": "code",
   "execution_count": 2,
   "metadata": {},
   "outputs": [],
   "source": [
    "file=open('EastWestAirlinesCluster.csv')"
   ]
  },
  {
   "cell_type": "code",
   "execution_count": 3,
   "metadata": {},
   "outputs": [],
   "source": [
    "def juli(a,b): #定义数据之间距离（这里用欧式距离）\n",
    "    return np.sqrt(np.sum((a-b)**2))"
   ]
  },
  {
   "cell_type": "code",
   "execution_count": 4,
   "metadata": {},
   "outputs": [],
   "source": [
    "def chushi(d,k): #随机取初始k个质心\n",
    "    sj=[]\n",
    "    for i in range(k):\n",
    "        sj.append(d[int(len(d)*np.random.rand()//1)])\n",
    "    return np.array(sj)"
   ]
  },
  {
   "cell_type": "code",
   "execution_count": 5,
   "metadata": {},
   "outputs": [],
   "source": [
    "data=[]   #将文件内容储存为列表\n",
    "for i in file.readlines():\n",
    "    data.append(i)"
   ]
  },
  {
   "cell_type": "code",
   "execution_count": 6,
   "metadata": {},
   "outputs": [],
   "source": [
    "dataset=[]  #将列表中的内容转为float\n",
    "for i in data[1:]:\n",
    "    dataset.append(list(map(float,i.strip().split(','))))"
   ]
  },
  {
   "cell_type": "code",
   "execution_count": 7,
   "metadata": {},
   "outputs": [],
   "source": [
    "dataset=np.array(dataset)  #将列表转为数组"
   ]
  },
  {
   "cell_type": "code",
   "execution_count": 8,
   "metadata": {
    "scrolled": true
   },
   "outputs": [],
   "source": [
    "dataset=dataset[:,1:-1] #将数据集中的第一列和最后一列去掉"
   ]
  },
  {
   "cell_type": "code",
   "execution_count": 9,
   "metadata": {},
   "outputs": [],
   "source": [
    "def Kmean(dataset,k,num):\n",
    "    zhixin=chushi(dataset,k) #储存每个质心的坐标\n",
    "    m=len(dataset)\n",
    "    n=len(dataset[0])\n",
    "    xinxi=np.zeros((m,2))  #储存每条数据属于哪个簇以及数据到质心的 距离\n",
    "    index=0\n",
    "    while index<num:\n",
    "        index=index+1\n",
    "        for i in range(m):\n",
    "            mindis=np.inf\n",
    "            mininx=-1\n",
    "            for j in range(k):\n",
    "                dis=juli(dataset[i],zhixin[j])\n",
    "                if dis<mindis:\n",
    "                    mindis=dis\n",
    "                    mininx=j\n",
    "            xinxi[i]=mininx,mindis\n",
    "        for i in range(k):\n",
    "            fz=np.nonzero(xinxi[:,0]==i)[0]\n",
    "            zhixin[i]=np.mean(dataset[fz],axis=0)\n",
    "    return zhixin,xinxi"
   ]
  },
  {
   "cell_type": "code",
   "execution_count": 10,
   "metadata": {
    "scrolled": false
   },
   "outputs": [],
   "source": [
    "z,x=Kmean(dataset,7,500)"
   ]
  },
  {
   "cell_type": "code",
   "execution_count": null,
   "metadata": {},
   "outputs": [],
   "source": []
  }
 ],
 "metadata": {
  "kernelspec": {
   "display_name": "Python 3",
   "language": "python",
   "name": "python3"
  },
  "language_info": {
   "codemirror_mode": {
    "name": "ipython",
    "version": 3
   },
   "file_extension": ".py",
   "mimetype": "text/x-python",
   "name": "python",
   "nbconvert_exporter": "python",
   "pygments_lexer": "ipython3",
   "version": "3.7.3"
  }
 },
 "nbformat": 4,
 "nbformat_minor": 2
}
